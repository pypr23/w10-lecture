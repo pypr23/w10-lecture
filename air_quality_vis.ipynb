{
 "cells": [
  {
   "cell_type": "markdown",
   "metadata": {},
   "source": [
    "# OpenAQ API for air quality data\n",
    "\n",
    "- Data source: [https://openaq.org/](https://openaq.org/)\n",
    "- API documentation: [https://docs.openaq.org/docs](https://docs.openaq.org/docs)\n",
    "- `py-openaq` package to read data direcly into dataframes: [https://dhhagan.github.io/py-openaq/index.html](https://dhhagan.github.io/py-openaq/index.html)"
   ]
  },
  {
   "cell_type": "code",
   "execution_count": null,
   "metadata": {},
   "outputs": [],
   "source": [
    "import openaq\n",
    "import seaborn as sns\n",
    "import pandas as pd\n",
    "import air_quality as aq\n",
    "\n",
    "api = openaq.OpenAQ()\n",
    "\n"
   ]
  }
 ],
 "metadata": {
  "kernelspec": {
   "display_name": "base",
   "language": "python",
   "name": "python3"
  },
  "language_info": {
   "codemirror_mode": {
    "name": "ipython",
    "version": 3
   },
   "file_extension": ".py",
   "mimetype": "text/x-python",
   "name": "python",
   "nbconvert_exporter": "python",
   "pygments_lexer": "ipython3",
   "version": "3.9.12"
  },
  "orig_nbformat": 4
 },
 "nbformat": 4,
 "nbformat_minor": 2
}
